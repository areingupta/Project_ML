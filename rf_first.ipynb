{
 "cells": [
  {
   "cell_type": "code",
   "execution_count": 5,
   "metadata": {},
   "outputs": [],
   "source": [
    "import numpy as np\n",
    "import pandas as pd \n",
    "from sklearn.model_selection import train_test_split\n",
    "from sklearn.ensemble import RandomForestRegressor\n",
    "from sklearn.metrics import r2_score\n",
    "from sklearn.metrics import mean_squared_error"
   ]
  },
  {
   "cell_type": "code",
   "execution_count": 6,
   "metadata": {},
   "outputs": [],
   "source": [
    "ls_r2=[]\n",
    "ls_rmse = []"
   ]
  },
  {
   "cell_type": "code",
   "execution_count": null,
   "metadata": {},
   "outputs": [],
   "source": [
    "for i in range(10):\n",
    "\tprint(i)\n",
    "\tx = pd.read_csv('mech_join_2.csv').iloc[:,14:].fillna(0).values \n",
    "\ty = pd.read_csv('mech_join_2.csv').iloc[:,6].fillna(0).values\n",
    "\n",
    "\tx_train, x_test, y_train, y_test  = train_test_split(x,y,test_size=0.1)\n",
    "\n",
    "\tforest=RandomForestRegressor(n_estimators=100, max_features=70, max_depth=32, min_samples_split=8, criterion='squared_error', min_samples_leaf=1,n_jobs=-1)\n",
    "\n",
    "\tforest.fit(x_train,y_train)\n",
    "\ty_pred=forest.predict(x_test)   \n",
    " \n",
    "\tr2 = r2_score(y_test, y_pred)\n",
    "\tmae = mean_absolute_error(y_test, y_pred)\n",
    "\tmse = mean_squared_error(y_test,y_pred); results_df = pd.DataFrame({\n",
    "    'Actual': y_test,\n",
    "    'Predicted': y_pred\n",
    "    })\n",
    " \n",
    "\trmse = np.sqrt(mse)\n",
    " \n",
    "\tls_r2.append(r2)\n",
    "\tls_mae.append(mae)\n",
    "\tls_rmse.append(rmse)\n",
    "\tprint(r2)"
   ]
  },
  {
   "cell_type": "code",
   "execution_count": null,
   "metadata": {},
   "outputs": [],
   "source": [
    "print(np.mean(ls_r2), '+-' ,np.std(ls_r2,ddof=1))\n",
    "print(np.mean(ls_mae), '+-' ,np.std(ls_mae,ddof=1))\n",
    "print(np.mean(ls_rmse), '+-' ,np.std(ls_rmse,ddof=1))"
   ]
  },
  {
   "cell_type": "code",
   "execution_count": 9,
   "metadata": {},
   "outputs": [],
   "source": [
    "results_df.to_csv('pp_for_sos_rf.csv', index=False)"
   ]
  }
 ],
 "metadata": {
  "kernelspec": {
   "display_name": "Python 3",
   "language": "python",
   "name": "python3"
  },
  "language_info": {
   "codemirror_mode": {
    "name": "ipython",
    "version": 3
   },
   "file_extension": ".py",
   "mimetype": "text/x-python",
   "name": "python",
   "nbconvert_exporter": "python",
   "pygments_lexer": "ipython3",
   "version": "3.9.6"
  }
 },
 "nbformat": 4,
 "nbformat_minor": 2
}
