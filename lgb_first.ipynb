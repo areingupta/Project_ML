{
 "cells": [
  {
   "cell_type": "code",
   "execution_count": 1,
   "metadata": {},
   "outputs": [],
   "source": [
    "import numpy as np\n",
    "import pandas as pd\n",
    "import lightgbm as lgb\n",
    "from sklearn.model_selection import train_test_split\n",
    "from sklearn.metrics import r2_score, mean_absolute_error, mean_squared_error"
   ]
  },
  {
   "cell_type": "code",
   "execution_count": 2,
   "metadata": {},
   "outputs": [],
   "source": [
    "ls_r2 = []\n",
    "ls_rmse = []"
   ]
  },
  {
   "cell_type": "code",
   "execution_count": 3,
   "metadata": {},
   "outputs": [],
   "source": [
    "training = pd.read_csv('mech_join_2.csv')\n",
    "predicting = pd.read_csv('mech_join_2.csv')"
   ]
  },
  {
   "cell_type": "code",
   "execution_count": null,
   "metadata": {},
   "outputs": [],
   "source": [
    "for i in range(10):\n",
    "    x = training.iloc[:,14:].fillna(0).values     \n",
    "    y = predicting.iloc[:,6].fillna(0).values\n",
    "    \n",
    "    x_train, x_test, y_train, y_test = train_test_split(x, y, test_size=0.1)\n",
    "\n",
    "    # LightGBM Regressor\n",
    "    lgb_reg = lgb.LGBMRegressor(\n",
    "        num_leaves=32, \n",
    "        learning_rate=0.1, \n",
    "        n_estimators=100, \n",
    "        reg_alpha=10, \n",
    "        reg_lambda=1, \n",
    "        colsample_bytree=0.3\n",
    "    )\n",
    "\n",
    "    lgb_reg.fit(x_train, y_train)\n",
    "    y_pred = lgb_reg.predict(x_test)\n",
    "    \n",
    "    results_df = pd.DataFrame({\n",
    "    'Actual': y_test,\n",
    "    'Predicted': y_pred\n",
    "    })  \n",
    "\n",
    "    r2 = r2_score(y_test, y_pred)\n",
    "    mae = mean_absolute_error(y_test, y_pred)\n",
    "    mse = mean_squared_error(y_test, y_pred)\n",
    "    rmse = np.sqrt(mse)\n",
    "\n",
    "    ls_r2.append(r2)\n",
    "    ls_rmse.append(rmse)"
   ]
  },
  {
   "cell_type": "code",
   "execution_count": null,
   "metadata": {},
   "outputs": [],
   "source": [
    "print(f\"R-squared: {np.mean(ls_r2)} +- {np.std(ls_r2, ddof=1)}\")\n",
    "print(f\"Root Mean Squared Error: {np.mean(ls_rmse)} +- {np.std(ls_rmse, ddof=1)}\")"
   ]
  },
  {
   "cell_type": "code",
   "execution_count": 6,
   "metadata": {},
   "outputs": [],
   "source": [
    "results_df.to_csv('pp_for_sos_lgb.csv', index=False)"
   ]
  }
 ],
 "metadata": {
  "kernelspec": {
   "display_name": "Python 3",
   "language": "python",
   "name": "python3"
  },
  "language_info": {
   "codemirror_mode": {
    "name": "ipython",
    "version": 3
   },
   "file_extension": ".py",
   "mimetype": "text/x-python",
   "name": "python",
   "nbconvert_exporter": "python",
   "pygments_lexer": "ipython3",
   "version": "3.9.6"
  }
 },
 "nbformat": 4,
 "nbformat_minor": 2
}
