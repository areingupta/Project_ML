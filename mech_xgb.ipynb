{
 "cells": [
  {
   "cell_type": "code",
   "execution_count": 1,
   "metadata": {},
   "outputs": [],
   "source": [
    "import numpy as np\n",
    "import pandas as pd\n",
    "import xgboost as xgb\n",
    "from sklearn.model_selection import train_test_split\n",
    "from sklearn.metrics import r2_score, mean_absolute_error, mean_squared_error"
   ]
  },
  {
   "cell_type": "code",
   "execution_count": 2,
   "metadata": {},
   "outputs": [],
   "source": [
    "ls_r2 = []\n",
    "ls_rmse = []"
   ]
  },
  {
   "cell_type": "code",
   "execution_count": 3,
   "metadata": {},
   "outputs": [],
   "source": [
    "training = pd.read_csv('mech_join_2.csv')\n",
    "predicting = pd.read_csv('mech_join_2.csv')"
   ]
  },
  {
   "cell_type": "code",
   "execution_count": 4,
   "metadata": {},
   "outputs": [
    {
     "name": "stdout",
     "output_type": "stream",
     "text": [
      "0\n",
      "0.7560559859117126\n",
      "1\n",
      "0.9098173512712351\n",
      "2\n",
      "0.9139334349123952\n",
      "3\n",
      "0.9246257167082061\n",
      "4\n",
      "0.9045430175625649\n",
      "5\n",
      "0.8760473610964538\n",
      "6\n",
      "0.7965106704470317\n",
      "7\n",
      "0.9422819023335214\n",
      "8\n",
      "0.7970073177707748\n",
      "9\n",
      "0.866673699134508\n"
     ]
    }
   ],
   "source": [
    "for i in range(10):\n",
    "    \n",
    "    # 2 for YM\n",
    "    # 4 for BG\n",
    "    # 5 for BM\n",
    "    # 6 for speed of sound\n",
    "    # 7 for shear modulus\n",
    "    \n",
    "    print(i)\n",
    "    x = training.iloc[:,14:].fillna(0).values     \n",
    "    y = predicting.iloc[:,6].fillna(0).values\n",
    "    \n",
    "    x_train, x_test, y_train, y_test = train_test_split(x, y, test_size=0.1)\n",
    "    \n",
    "\n",
    "    xg_reg = xgb.XGBRegressor(\n",
    "        objective='reg:squarederror', \n",
    "        colsample_bytree=0.3, #0.3\n",
    "        gamma = 0,\n",
    "        learning_rate=0.1,\n",
    "        max_depth=5, #5\n",
    "        alpha=10, #10\n",
    "        # reg_lambda=1,\n",
    "        n_estimators=100, #100\n",
    "        # subsample=0.7 \n",
    "    )\n",
    "\n",
    "    xg_reg.fit(x_train,y_train)\n",
    "    y_pred = xg_reg.predict(x_test)\n",
    "    \n",
    "    results_df = pd.DataFrame({\n",
    "    'Actual': y_test,\n",
    "    'Predicted': y_pred\n",
    "    })  \n",
    "\n",
    "    r2 = r2_score(y_test, y_pred)\n",
    "    mae = mean_absolute_error(y_test, y_pred)\n",
    "    mse = mean_squared_error(y_test, y_pred)\n",
    "    rmse = np.sqrt(mse)\n",
    "\n",
    "    ls_r2.append(r2)\n",
    "    ls_rmse.append(rmse)\n",
    "    \n",
    "    print(r2)"
   ]
  },
  {
   "cell_type": "code",
   "execution_count": 5,
   "metadata": {},
   "outputs": [
    {
     "name": "stdout",
     "output_type": "stream",
     "text": [
      "R-squared: 0.8687496457148404 +- 0.06382378790043022\n",
      "Root Mean Squared Error: 0.42970435753302827 +- 0.10800045177569967\n"
     ]
    }
   ],
   "source": [
    "print(f\"R-squared: {np.mean(ls_r2)} +- {np.std(ls_r2, ddof=1)}\")\n",
    "print(f\"Root Mean Squared Error: {np.mean(ls_rmse)} +- {np.std(ls_rmse, ddof=1)}\")"
   ]
  },
  {
   "cell_type": "code",
   "execution_count": 6,
   "metadata": {},
   "outputs": [],
   "source": [
    "results_df.to_csv('pp_for_bg_xgb.csv', index=False)"
   ]
  }
 ],
 "metadata": {
  "kernelspec": {
   "display_name": "Python 3",
   "language": "python",
   "name": "python3"
  },
  "language_info": {
   "codemirror_mode": {
    "name": "ipython",
    "version": 3
   },
   "file_extension": ".py",
   "mimetype": "text/x-python",
   "name": "python",
   "nbconvert_exporter": "python",
   "pygments_lexer": "ipython3",
   "version": "3.9.6"
  }
 },
 "nbformat": 4,
 "nbformat_minor": 2
}
